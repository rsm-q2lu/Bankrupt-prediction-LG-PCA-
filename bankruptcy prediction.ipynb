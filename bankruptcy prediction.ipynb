{
 "cells": [
  {
   "cell_type": "markdown",
   "metadata": {},
   "source": [
    "### Load bankruptcy data from UCI :  5thYear.arff \n",
    "### Feature explanation: https://archive.ics.uci.edu/ml/datasets/Polish+companies+bankruptcy+data\n",
    "### The data contains financial rates from 5th year of the forecasting period and corresponding class label that indicates bankruptcy status after 1 year. The data contains 5910 instances (financial statements), 410 represents bankrupted companies, 5500 firms that did not bankrupt in the forecasting period.\n",
    "\n",
    "### First, we build a logistic regression model to predict if bankrupt. The metrics we use is BER, which is the smaller the better. Because the dataset is imbalanced, we use class weight=’balanced’ to train the model."
   ]
  },
  {
   "cell_type": "code",
   "execution_count": 1,
   "metadata": {},
   "outputs": [],
   "source": [
    "import numpy as np\n",
    "import pandas as pd\n",
    "import math\n",
    "import random\n",
    "import warnings\n",
    "#warnings.filterwarnings(\"ignore\")\n",
    "from sklearn.decomposition import  PCA\n",
    "from sklearn import linear_model\n",
    "\n",
    "f = open(\"week2 pca/5year.arff\", 'r')\n",
    "# Reading in data\n",
    "while not '@data' in f.readline():\n",
    "    pass\n",
    "dataset = []\n",
    "for l in f:\n",
    "    if '?' in l: # Missing entry\n",
    "        continue\n",
    "    l = l.split(',')\n",
    "    values = [1] + [float(x) for x in l]\n",
    "    values[-1] = values[-1] > 0 # Convert to bool\n",
    "    dataset.append(values)\n",
    "    \n",
    "X=[d[:-1] for d in dataset]\n",
    "y=[d[-1] for d in dataset]\n"
   ]
  },
  {
   "cell_type": "code",
   "execution_count": 43,
   "metadata": {},
   "outputs": [
    {
     "name": "stdout",
     "output_type": "stream",
     "text": [
      "the accuracy is 0.9683272847245133\n"
     ]
    }
   ],
   "source": [
    "# Fit model\n",
    "mod = linear_model.LogisticRegression(C=1.0,solver=\"liblinear\",max_iter=5000)\n",
    "mod.fit(X,y)\n",
    "pred=mod.predict(X)\n",
    "pred\n",
    "# positive predictions\n",
    "accuracy=sum(pred==y)/len(y)\n",
    "print(\"the accuracy is\", accuracy)"
   ]
  },
  {
   "cell_type": "code",
   "execution_count": 44,
   "metadata": {},
   "outputs": [
    {
     "name": "stdout",
     "output_type": "stream",
     "text": [
      "BER= 0.446931965001774\n"
     ]
    }
   ],
   "source": [
    "# BER\n",
    "TP_=np.logical_and(pred,y)\n",
    "TN_=np.logical_and(np.logical_not(pred),np.logical_not(y))\n",
    "FP_=np.logical_and(pred,np.logical_not(y))\n",
    "FN_=np.logical_and(np.logical_not(pred),y)\n",
    "TP=sum(TP_)\n",
    "TN=sum(TN_)\n",
    "FN=sum(FN_)\n",
    "FP=sum(FP_)\n",
    "\n",
    "BER = 1 - 0.5 * (TP / (TP + FN) + TN / (TN + FP))\n",
    "print(\"BER=\",BER)"
   ]
  },
  {
   "cell_type": "code",
   "execution_count": 5,
   "metadata": {},
   "outputs": [],
   "source": [
    "## split data"
   ]
  },
  {
   "cell_type": "code",
   "execution_count": 2,
   "metadata": {},
   "outputs": [],
   "source": [
    "Xy=list(zip(X,y))\n",
    "random.shuffle(Xy)"
   ]
  },
  {
   "cell_type": "code",
   "execution_count": 3,
   "metadata": {},
   "outputs": [],
   "source": [
    "X=[d[0] for d in Xy]\n",
    "y=[d[1] for d in Xy]\n",
    "N=len(y)\n",
    "ntrain=math.ceil(0.5*N)\n",
    "nvalidation=math.ceil(0.25*N)\n",
    "ntest=math.ceil(0.25*N)\n"
   ]
  },
  {
   "cell_type": "code",
   "execution_count": 4,
   "metadata": {},
   "outputs": [],
   "source": [
    "xtrain=X[:ntrain]\n",
    "xvali=X[ntrain:ntrain+nvalidation]\n",
    "xtest=X[nvalidation+ntrain:]\n",
    "\n",
    "ytrain=y[:ntrain]\n",
    "yvali=y[ntrain:ntrain+nvalidation]\n",
    "ytest=y[nvalidation+ntrain:]\n",
    "\n",
    "# balance model class weight=’balanced’\n",
    "def accuracy(x,y):\n",
    "    bmodel= linear_model.LogisticRegression(C=1, class_weight='balanced',solver=\"lbfgs\",max_iter=5000)\n",
    "    bmodel.fit(xtrain,ytrain)\n",
    "    pred_=bmodel.predict(x)\n",
    "    accuracy=sum(pred_==y)/len(y)\n",
    "    TP_=np.logical_and(pred_,y)\n",
    "    TN_=np.logical_and(np.logical_not(pred_),np.logical_not(y))\n",
    "    FP_=np.logical_and(pred_,np.logical_not(y))\n",
    "    FN_=np.logical_and(np.logical_not(pred_),y)\n",
    "    TP=sum(TP_)\n",
    "    TN=sum(TN_)\n",
    "    FN=sum(FN_)\n",
    "    FP=sum(FP_)\n",
    "    BER = 1 - 0.5 * (TP / (TP + FN) + TN / (TN + FP))\n",
    "    return accuracy,BER\n"
   ]
  },
  {
   "cell_type": "code",
   "execution_count": 49,
   "metadata": {},
   "outputs": [],
   "source": [
    "#np.array(xtrain).shape"
   ]
  },
  {
   "cell_type": "code",
   "execution_count": 58,
   "metadata": {},
   "outputs": [
    {
     "name": "stderr",
     "output_type": "stream",
     "text": [
      "/usr/local/lib/python3.6/dist-packages/sklearn/linear_model/logistic.py:947: ConvergenceWarning: lbfgs failed to converge. Increase the number of iterations.\n",
      "  \"of iterations.\", ConvergenceWarning)\n",
      "/usr/local/lib/python3.6/dist-packages/sklearn/linear_model/logistic.py:947: ConvergenceWarning: lbfgs failed to converge. Increase the number of iterations.\n",
      "  \"of iterations.\", ConvergenceWarning)\n"
     ]
    },
    {
     "name": "stdout",
     "output_type": "stream",
     "text": [
      "train data accuracy: 0.8027704485488126 train data BER: 0.20474921425778136\n"
     ]
    },
    {
     "name": "stderr",
     "output_type": "stream",
     "text": [
      "/usr/local/lib/python3.6/dist-packages/sklearn/linear_model/logistic.py:947: ConvergenceWarning: lbfgs failed to converge. Increase the number of iterations.\n",
      "  \"of iterations.\", ConvergenceWarning)\n",
      "/usr/local/lib/python3.6/dist-packages/sklearn/linear_model/logistic.py:947: ConvergenceWarning: lbfgs failed to converge. Increase the number of iterations.\n",
      "  \"of iterations.\", ConvergenceWarning)\n"
     ]
    },
    {
     "name": "stdout",
     "output_type": "stream",
     "text": [
      "validation data accuracy: 0.8060686015831134 validation data BER: 0.20918933309668541\n"
     ]
    },
    {
     "name": "stderr",
     "output_type": "stream",
     "text": [
      "/usr/local/lib/python3.6/dist-packages/sklearn/linear_model/logistic.py:947: ConvergenceWarning: lbfgs failed to converge. Increase the number of iterations.\n",
      "  \"of iterations.\", ConvergenceWarning)\n"
     ]
    },
    {
     "name": "stdout",
     "output_type": "stream",
     "text": [
      "test data accuracy: 0.7859973579920739 test data BER: 0.19110959527057747\n"
     ]
    },
    {
     "name": "stderr",
     "output_type": "stream",
     "text": [
      "/usr/local/lib/python3.6/dist-packages/sklearn/linear_model/logistic.py:947: ConvergenceWarning: lbfgs failed to converge. Increase the number of iterations.\n",
      "  \"of iterations.\", ConvergenceWarning)\n"
     ]
    }
   ],
   "source": [
    "print(\"train data accuracy:\",accuracy(xtrain,ytrain)[0],\"train data BER:\",accuracy(xtrain,ytrain)[1])\n",
    "print(\"validation data accuracy:\",accuracy(xvali,yvali)[0],\"validation data BER:\",accuracy(xvali,yvali)[1])\n",
    "print(\"test data accuracy:\",accuracy(xtest,ytest)[0],\"test data BER:\",accuracy(xtest,ytest)[1])"
   ]
  },
  {
   "cell_type": "markdown",
   "metadata": {},
   "source": [
    "### Then, we try to find a regularization parameter C that minimize the BER."
   ]
  },
  {
   "cell_type": "code",
   "execution_count": 62,
   "metadata": {},
   "outputs": [],
   "source": [
    "def parameter(c,x,y):\n",
    "    bmodel= linear_model.LogisticRegression(C=c, class_weight='balanced',solver=\"liblinear\",max_iter=5000)\n",
    "    bmodel.fit(xtrain,ytrain)\n",
    "    pred_=bmodel.predict(x)\n",
    "    accuracy=sum(pred_==y)/len(y)\n",
    "    TP_=np.logical_and(pred_,y)\n",
    "    TN_=np.logical_and(np.logical_not(pred_),np.logical_not(y))\n",
    "    FP_=np.logical_and(pred_,np.logical_not(y))\n",
    "    FN_=np.logical_and(np.logical_not(pred_),y)\n",
    "    TP=sum(TP_)\n",
    "    TN=sum(TN_)\n",
    "    FN=sum(FN_)\n",
    "    FP=sum(FP_)\n",
    "    BER = 1 - 0.5 * (TP / (TP + FN) + TN / (TN + FP))\n",
    "    return c,accuracy,BER\n",
    "    "
   ]
  },
  {
   "cell_type": "code",
   "execution_count": 63,
   "metadata": {},
   "outputs": [],
   "source": [
    "a=np.logspace(-4,4,9,base=10)\n",
    "l_train=[]\n",
    "l_vali=[]\n",
    "l_test=[]\n",
    "\n",
    "df_train = pd.DataFrame(columns=['parameter', 'train accuracy', 'train BER']) \n",
    "df_vali = pd.DataFrame(columns=['parameter', 'validation accuracy', 'validation BER']) \n",
    "df_test = pd.DataFrame(columns=['parameter', 'test accuracy', 'test BER']) \n",
    "\n",
    "for i in range(len(a)):\n",
    "    p=parameter(a[i],xtrain,ytrain)\n",
    "    l_train.append(p)\n",
    "    l_train=list(l_train)\n",
    "    \n",
    "for i in range(len(a)):\n",
    "    p=parameter(a[i],xvali,yvali)\n",
    "    l_vali.append(p)\n",
    "    l_vali=list(l_vali)\n",
    "\n",
    "for i in range(len(a)):\n",
    "    p=parameter(a[i],xtest,ytest)\n",
    "    l_test.append(p)\n",
    "    l_test=list(l_test)\n",
    " "
   ]
  },
  {
   "cell_type": "code",
   "execution_count": 64,
   "metadata": {},
   "outputs": [],
   "source": [
    "for i in range(len(a)):\n",
    "    df_train.loc[i,\"parameter\"]=l_train[i][0]\n",
    "    df_train.loc[i,\"train accuracy\"]=l_train[i][1]\n",
    "    df_train.loc[i,\"train BER\"]=l_train[i][2]\n",
    "\n",
    "for i in range(len(a)):\n",
    "    df_vali.loc[i,\"parameter\"]=l_vali[i][0]\n",
    "    df_vali.loc[i,\"validation accuracy\"]=l_vali[i][1]\n",
    "    df_vali.loc[i,\"validation BER\"]=l_vali[i][2]\n",
    "\n",
    "for i in range(len(a)):\n",
    "    df_test.loc[i,\"parameter\"]=l_test[i][0]\n",
    "    df_test.loc[i,\"test accuracy\"]=l_test[i][1]\n",
    "    df_test.loc[i,\"test BER\"]=l_test[i][2]\n",
    "\n"
   ]
  },
  {
   "cell_type": "code",
   "execution_count": 65,
   "metadata": {},
   "outputs": [
    {
     "name": "stdout",
     "output_type": "stream",
     "text": [
      "  parameter train accuracy train BER\n",
      "0    0.0001       0.757916  0.269086\n",
      "1     0.001        0.80409  0.224664\n",
      "2      0.01       0.800792   0.20577\n",
      "3       0.1       0.812005  0.189686\n",
      "4         1       0.833113  0.147901\n",
      "5        10       0.841689   0.12288\n",
      "6       100       0.835752  0.136241\n",
      "7      1000       0.833773  0.157858\n",
      "8     10000       0.844327  0.121518\n",
      "  parameter validation accuracy validation BER\n",
      "0    0.0001            0.762533       0.231885\n",
      "1     0.001            0.815303       0.173492\n",
      "2      0.01            0.808707       0.176931\n",
      "3       0.1             0.82058       0.139859\n",
      "4         1            0.841689       0.159737\n",
      "5        10            0.848285       0.156299\n",
      "6       100            0.843008        0.15905\n",
      "7      1000            0.841689       0.159737\n",
      "8     10000            0.848285       0.140857\n",
      "  parameter test accuracy  test BER\n",
      "0    0.0001      0.725231   0.26279\n",
      "1     0.001      0.778071  0.235505\n",
      "2      0.01      0.787318   0.23073\n",
      "3       0.1      0.783355  0.252927\n",
      "4         1      0.797886  0.205122\n",
      "5        10      0.807133  0.240649\n",
      "6       100      0.805812   0.22118\n",
      "7      1000      0.796565  0.205804\n",
      "8     10000      0.804491  0.262165\n"
     ]
    }
   ],
   "source": [
    "print(df_train)\n",
    "\n",
    "print(df_vali)\n",
    "\n",
    "print(df_test)"
   ]
  },
  {
   "cell_type": "code",
   "execution_count": 66,
   "metadata": {},
   "outputs": [],
   "source": [
    "import matplotlib.pyplot as plt"
   ]
  },
  {
   "cell_type": "code",
   "execution_count": 67,
   "metadata": {},
   "outputs": [
    {
     "data": {
      "text/plain": [
       "Text(0.5, 1.0, 'train accuracy')"
      ]
     },
     "execution_count": 67,
     "metadata": {},
     "output_type": "execute_result"
    },
    {
     "data": {
      "image/png": "[encoded data removed]",
      "text/plain": [
       "<Figure size 432x288 with 1 Axes>"
      ]
     },
     "metadata": {
      "needs_background": "light"
     },
     "output_type": "display_data"
    }
   ],
   "source": [
    "plt.semilogx(df_train['parameter'],df_train['train accuracy'],label=\"accuracy\",color=\"red\",lw=1.5)\n",
    "plt.title('train accuracy',size=20)"
   ]
  },
  {
   "cell_type": "code",
   "execution_count": 68,
   "metadata": {},
   "outputs": [
    {
     "data": {
      "text/plain": [
       "Text(0.5, 1.0, 'train BER')"
      ]
     },
     "execution_count": 68,
     "metadata": {},
     "output_type": "execute_result"
    },
    {
     "data": {
      "image/png": "[encoded data removed]",
      "text/plain": [
       "<Figure size 432x288 with 1 Axes>"
      ]
     },
     "metadata": {
      "needs_background": "light"
     },
     "output_type": "display_data"
    }
   ],
   "source": [
    "plt.semilogx(df_train['parameter'],df_train['train BER'],label=\"BER\",color=\"green\",lw=1.5)\n",
    "plt.title('train BER',size=20)"
   ]
  },
  {
   "cell_type": "code",
   "execution_count": 69,
   "metadata": {},
   "outputs": [
    {
     "data": {
      "text/plain": [
       "Text(0.5, 1.0, 'vali accuracy')"
      ]
     },
     "execution_count": 69,
     "metadata": {},
     "output_type": "execute_result"
    },
    {
     "data": {
      "image/png": "[encoded data removed]",
      "text/plain": [
       "<Figure size 432x288 with 1 Axes>"
      ]
     },
     "metadata": {
      "needs_background": "light"
     },
     "output_type": "display_data"
    }
   ],
   "source": [
    "plt.semilogx(df_vali['parameter'],df_vali['validation accuracy'],label=\"accuracy\",color=\"red\")\n",
    "plt.title('vali accuracy',size=20)"
   ]
  },
  {
   "cell_type": "code",
   "execution_count": 70,
   "metadata": {},
   "outputs": [
    {
     "data": {
      "text/plain": [
       "Text(0.5, 1.0, 'vali BER')"
      ]
     },
     "execution_count": 70,
     "metadata": {},
     "output_type": "execute_result"
    },
    {
     "data": {
      "image/png": "[encoded data removed]",
      "text/plain": [
       "<Figure size 432x288 with 1 Axes>"
      ]
     },
     "metadata": {
      "needs_background": "light"
     },
     "output_type": "display_data"
    }
   ],
   "source": [
    "plt.semilogx(df_vali['parameter'],df_vali['validation BER'],label=\"BER\",color=\"green\")\n",
    "plt.title('vali BER',size=20)"
   ]
  },
  {
   "cell_type": "code",
   "execution_count": 72,
   "metadata": {},
   "outputs": [
    {
     "data": {
      "text/plain": [
       "Text(0.5, 1.0, 'test accuracy')"
      ]
     },
     "execution_count": 72,
     "metadata": {},
     "output_type": "execute_result"
    },
    {
     "data": {
      "image/png": "[encoded data removed]",
      "text/plain": [
       "<Figure size 432x288 with 1 Axes>"
      ]
     },
     "metadata": {
      "needs_background": "light"
     },
     "output_type": "display_data"
    }
   ],
   "source": [
    "plt.semilogx(df_test['parameter'],df_test['test accuracy'],label=\"accuracy\",color=\"red\")\n",
    "plt.title('test accuracy',size=20)"
   ]
  },
  {
   "cell_type": "code",
   "execution_count": 73,
   "metadata": {},
   "outputs": [
    {
     "data": {
      "text/plain": [
       "Text(0.5, 1.0, 'test BER')"
      ]
     },
     "execution_count": 73,
     "metadata": {},
     "output_type": "execute_result"
    },
    {
     "data": {
      "image/png": "[encoded data removed]",
      "text/plain": [
       "<Figure size 432x288 with 1 Axes>"
      ]
     },
     "metadata": {
      "needs_background": "light"
     },
     "output_type": "display_data"
    }
   ],
   "source": [
    "plt.semilogx(df_test['parameter'],df_test['test BER'],label=\"BER\",color=\"green\")\n",
    "plt.title('test BER',size=20)"
   ]
  },
  {
   "cell_type": "markdown",
   "metadata": {},
   "source": [
    "### Ok, we found parameter=0.1, validation BER is smallest.\n",
    "### But what if we don't use balance weight? For example, we want to find out most bankrupted (y=1) companies because it is important when we make investment decisions. We don't want to take the risk that we invest on a bank that will go bankrupcy! So we can assign sample weight to labels to adjust their weight in our model.\n",
    "### Let's see what's the best weight that can result in a higher F score, which balances the precison and recall rate and the larger the better."
   ]
  },
  {
   "cell_type": "code",
   "execution_count": 83,
   "metadata": {},
   "outputs": [
    {
     "name": "stderr",
     "output_type": "stream",
     "text": [
      "/usr/local/lib/python3.6/dist-packages/sklearn/linear_model/logistic.py:947: ConvergenceWarning: lbfgs failed to converge. Increase the number of iterations.\n",
      "  \"of iterations.\", ConvergenceWarning)\n"
     ]
    },
    {
     "data": {
      "text/plain": [
       "(0.06451612903225806, 0.04196094723722476)"
      ]
     },
     "execution_count": 83,
     "metadata": {},
     "output_type": "execute_result"
    }
   ],
   "source": [
    "# unweighted F1 & F10\n",
    "\n",
    "unmod = linear_model.LogisticRegression(C=1, solver='lbfgs',max_iter=8000)\n",
    "unmod.fit(xtrain,ytrain)\n",
    "pred_=unmod.predict(xtest)\n",
    "\n",
    "def fscore(pred_,ytest):\n",
    "    TP_=np.logical_and(pred_,ytest)\n",
    "    TN_=np.logical_and(np.logical_not(pred_),np.logical_not(ytest))\n",
    "    FP_=np.logical_and(pred_,np.logical_not(ytest))\n",
    "    FN_=np.logical_and(np.logical_not(pred_),ytest)\n",
    "    TP=sum(TP_)\n",
    "    TN=sum(TN_)\n",
    "    FN=sum(FN_)\n",
    "    FP=sum(FP_)\n",
    "    P=TP/(TP+FP)\n",
    "    R=TP/(TP+FN)\n",
    "    F1=2*P*R/(P+R)\n",
    "    F10=101*P*R/(100*P+R)\n",
    "    return F1,F10\n",
    "\n",
    "fscore(pred_,ytest)"
   ]
  },
  {
   "cell_type": "code",
   "execution_count": 84,
   "metadata": {},
   "outputs": [
    {
     "name": "stderr",
     "output_type": "stream",
     "text": [
      "/usr/local/lib/python3.6/dist-packages/sklearn/linear_model/logistic.py:947: ConvergenceWarning: lbfgs failed to converge. Increase the number of iterations.\n",
      "  \"of iterations.\", ConvergenceWarning)\n",
      "/usr/local/lib/python3.6/dist-packages/sklearn/linear_model/logistic.py:947: ConvergenceWarning: lbfgs failed to converge. Increase the number of iterations.\n",
      "  \"of iterations.\", ConvergenceWarning)\n",
      "/usr/local/lib/python3.6/dist-packages/sklearn/linear_model/logistic.py:947: ConvergenceWarning: lbfgs failed to converge. Increase the number of iterations.\n",
      "  \"of iterations.\", ConvergenceWarning)\n",
      "/usr/local/lib/python3.6/dist-packages/sklearn/linear_model/logistic.py:947: ConvergenceWarning: lbfgs failed to converge. Increase the number of iterations.\n",
      "  \"of iterations.\", ConvergenceWarning)\n",
      "/usr/local/lib/python3.6/dist-packages/sklearn/linear_model/logistic.py:947: ConvergenceWarning: lbfgs failed to converge. Increase the number of iterations.\n",
      "  \"of iterations.\", ConvergenceWarning)\n",
      "/usr/local/lib/python3.6/dist-packages/sklearn/linear_model/logistic.py:947: ConvergenceWarning: lbfgs failed to converge. Increase the number of iterations.\n",
      "  \"of iterations.\", ConvergenceWarning)\n",
      "/usr/local/lib/python3.6/dist-packages/sklearn/linear_model/logistic.py:947: ConvergenceWarning: lbfgs failed to converge. Increase the number of iterations.\n",
      "  \"of iterations.\", ConvergenceWarning)\n",
      "/usr/local/lib/python3.6/dist-packages/sklearn/linear_model/logistic.py:947: ConvergenceWarning: lbfgs failed to converge. Increase the number of iterations.\n",
      "  \"of iterations.\", ConvergenceWarning)\n",
      "/usr/local/lib/python3.6/dist-packages/sklearn/linear_model/logistic.py:947: ConvergenceWarning: lbfgs failed to converge. Increase the number of iterations.\n",
      "  \"of iterations.\", ConvergenceWarning)\n",
      "/usr/local/lib/python3.6/dist-packages/sklearn/linear_model/logistic.py:947: ConvergenceWarning: lbfgs failed to converge. Increase the number of iterations.\n",
      "  \"of iterations.\", ConvergenceWarning)\n",
      "/usr/local/lib/python3.6/dist-packages/sklearn/linear_model/logistic.py:947: ConvergenceWarning: lbfgs failed to converge. Increase the number of iterations.\n",
      "  \"of iterations.\", ConvergenceWarning)\n",
      "/usr/local/lib/python3.6/dist-packages/sklearn/linear_model/logistic.py:947: ConvergenceWarning: lbfgs failed to converge. Increase the number of iterations.\n",
      "  \"of iterations.\", ConvergenceWarning)\n"
     ]
    },
    {
     "data": {
      "text/plain": [
       "[(0.06451612903225806, 0.04196094723722476),\n",
       " (0.06451612903225806, 0.04196094723722476),\n",
       " (0.06451612903225806, 0.04196094723722476),\n",
       " (0.06451612903225806, 0.04196094723722476),\n",
       " (0.06060606060606061, 0.04192611041926111),\n",
       " (0.06060606060606061, 0.04192611041926111),\n",
       " (0.10810810810810811, 0.08371322005801907),\n",
       " (0.10810810810810811, 0.08371322005801907),\n",
       " (0.186046511627907, 0.1670111616370401),\n",
       " (0.186046511627907, 0.1670111616370401),\n",
       " (0.1702127659574468, 0.16673545191910852),\n",
       " (0.1702127659574468, 0.16673545191910852)]"
      ]
     },
     "execution_count": 84,
     "metadata": {},
     "output_type": "execute_result"
    }
   ],
   "source": [
    "\n",
    "import copy \n",
    "pred_result=[]\n",
    "f_result=[]\n",
    "for i in np.arange(0,6,0.5):\n",
    "    weights=np.array(copy.copy(ytrain))*1\n",
    "    weights[weights==1]=i\n",
    "    weights[weights==0]=1\n",
    "    mod=linear_model.LogisticRegression(C=1, solver='lbfgs',max_iter=8000)\n",
    "    mod.fit(xtrain, ytrain, sample_weight=weights)\n",
    "    pred_2=mod.predict(xtest)\n",
    "    pred_result.append(pred_2)\n",
    "\n",
    "for i in range(len(np.arange(0,6,0.5))):\n",
    "    f=fscore(pred_result[i],ytest)\n",
    "    f_result.append(f)\n",
    "\n",
    "f_result"
   ]
  },
  {
   "cell_type": "markdown",
   "metadata": {},
   "source": [
    "### Ok, we found that when weight>=3 ,both F1 and F10score are larger than those of unweighted (balanced) model.\n",
    "### Next we’ll consider using PCA to build a lower-dimensional feature vector to do prediction.\n"
   ]
  },
  {
   "cell_type": "code",
   "execution_count": 5,
   "metadata": {},
   "outputs": [
    {
     "name": "stdout",
     "output_type": "stream",
     "text": [
      "[-3.44741335e-19  2.06326747e-07 -9.78743126e-07  1.03551203e-06\n",
      "  5.09931126e-06  4.56494818e-04  5.74104483e-07  2.36180788e-07\n",
      "  6.19731033e-06 -5.14207638e-07  9.46953549e-07  1.92936641e-07\n",
      "  1.12195322e-06  4.50956107e-07  2.36180788e-07 -2.53162640e-03\n",
      "  1.15750481e-06  6.50436969e-06  2.36180788e-07  4.94885103e-07\n",
      "  2.94006497e-05 -1.20076220e-05  1.70216247e-07  4.64977535e-07\n",
      "  4.24008578e-07  1.14234787e-06  1.02011394e-06  3.75756302e-05\n",
      "  3.04355207e-05  3.55693302e-06 -1.82409295e-06  4.78670311e-07\n",
      " -2.86360789e-04  5.02579263e-06 -1.58392014e-06  1.46663131e-07\n",
      " -5.60361595e-07  6.07307539e-04  7.56888555e-07  1.95314491e-07\n",
      "  1.99904343e-06 -1.44972614e-06  4.20755091e-07  4.45855376e-05\n",
      "  1.51842907e-05 -2.90322950e-06  3.73012913e-06  4.61987225e-05\n",
      "  1.95420463e-07  4.63301710e-07  4.19900806e-06 -7.47500765e-07\n",
      " -7.43181370e-07  1.77639202e-06  3.05987889e-05  9.99996415e-01\n",
      "  1.97126240e-07 -4.07855654e-07 -2.52300761e-07 -2.67730343e-07\n",
      " -1.35546127e-04 -1.54165141e-05 -2.70428767e-04  6.31076680e-06\n",
      " -7.89516169e-06]\n"
     ]
    }
   ],
   "source": [
    "pca=PCA()\n",
    "pca.fit(xtrain)\n",
    "print(pca.components_[0])"
   ]
  },
  {
   "cell_type": "code",
   "execution_count": 90,
   "metadata": {},
   "outputs": [
    {
     "name": "stderr",
     "output_type": "stream",
     "text": [
      "/usr/local/lib/python3.6/dist-packages/sklearn/linear_model/logistic.py:947: ConvergenceWarning: lbfgs failed to converge. Increase the number of iterations.\n",
      "  \"of iterations.\", ConvergenceWarning)\n",
      "/usr/local/lib/python3.6/dist-packages/sklearn/linear_model/logistic.py:947: ConvergenceWarning: lbfgs failed to converge. Increase the number of iterations.\n",
      "  \"of iterations.\", ConvergenceWarning)\n",
      "/usr/local/lib/python3.6/dist-packages/sklearn/linear_model/logistic.py:947: ConvergenceWarning: lbfgs failed to converge. Increase the number of iterations.\n",
      "  \"of iterations.\", ConvergenceWarning)\n"
     ]
    }
   ],
   "source": [
    "Xpca_train=[]\n",
    "Xpca_valid=[]\n",
    "Xpca_test=[]\n",
    "pred_=[]\n",
    "BER_vali=[]\n",
    "TP_=[]\n",
    "TN_=[]\n",
    "FP_=[]\n",
    "FN_=[]\n",
    "TP=[]\n",
    "TN=[]\n",
    "FP=[]\n",
    "FN=[]\n",
    "pca=[]\n",
    "\n",
    "for i in range(5,35,5): \n",
    "    pca.append(PCA(n_components=i))\n",
    "for j in range(6):\n",
    "    pca[j].fit(xtrain)\n",
    "    Xpca_train.append(pca[j].transform(xtrain))\n",
    "    Xpca_valid.append(pca[j].transform(xvali))\n",
    "    Xpca_test.append(pca[j].transform(xtest))\n",
    "    bmodel= linear_model.LogisticRegression(C=1, class_weight='balanced',solver=\"lbfgs\",max_iter=8000)\n",
    "    bmodel.fit(Xpca_train[j],ytrain)\n",
    "    pred_.append(bmodel.predict(Xpca_valid[j]))\n",
    "    TP_.append(np.logical_and(pred_[j],yvali))\n",
    "    TN_.append(np.logical_and(np.logical_not(pred_[j]),np.logical_not(yvali)))\n",
    "    FP_.append(np.logical_and(pred_[j],np.logical_not(yvali)))\n",
    "    FN_.append(np.logical_and(np.logical_not(pred_[j]),yvali))\n",
    "    TP.append(sum(TP_[j]))\n",
    "    TN.append(sum(TN_[j]))\n",
    "    FN.append(sum(FN_[j]))\n",
    "    FP.append(sum(FP_[j]))\n",
    "    Ber = 1 - 0.5 * (TP[j] / (TP[j] + FN[j]) + TN[j] / (TN[j] + FP[j]))\n",
    "    BER_vali.append(Ber)\n",
    "    "
   ]
  },
  {
   "cell_type": "code",
   "execution_count": 91,
   "metadata": {},
   "outputs": [
    {
     "data": {
      "text/plain": [
       "[0.4712916537249856,\n",
       " 0.34430048364911037,\n",
       " 0.2054399432045082,\n",
       " 0.23951723831920835,\n",
       " 0.26671695434174914,\n",
       " 0.19288281492656512]"
      ]
     },
     "execution_count": 91,
     "metadata": {},
     "output_type": "execute_result"
    }
   ],
   "source": [
    "BER_vali"
   ]
  },
  {
   "cell_type": "code",
   "execution_count": 92,
   "metadata": {},
   "outputs": [
    {
     "name": "stderr",
     "output_type": "stream",
     "text": [
      "/usr/local/lib/python3.6/dist-packages/sklearn/linear_model/logistic.py:947: ConvergenceWarning: lbfgs failed to converge. Increase the number of iterations.\n",
      "  \"of iterations.\", ConvergenceWarning)\n",
      "/usr/local/lib/python3.6/dist-packages/sklearn/linear_model/logistic.py:947: ConvergenceWarning: lbfgs failed to converge. Increase the number of iterations.\n",
      "  \"of iterations.\", ConvergenceWarning)\n",
      "/usr/local/lib/python3.6/dist-packages/sklearn/linear_model/logistic.py:947: ConvergenceWarning: lbfgs failed to converge. Increase the number of iterations.\n",
      "  \"of iterations.\", ConvergenceWarning)\n",
      "/usr/local/lib/python3.6/dist-packages/sklearn/linear_model/logistic.py:947: ConvergenceWarning: lbfgs failed to converge. Increase the number of iterations.\n",
      "  \"of iterations.\", ConvergenceWarning)\n"
     ]
    }
   ],
   "source": [
    "BER_test=[]\n",
    "Xpca_train=[]\n",
    "Xpca_valid=[]\n",
    "Xpca_test=[]\n",
    "pred_=[]\n",
    "TP_=[]\n",
    "TN_=[]\n",
    "FP_=[]\n",
    "FN_=[]\n",
    "TP=[]\n",
    "TN=[]\n",
    "FP=[]\n",
    "FN=[]\n",
    "for j in range(6):\n",
    "    pca[j].fit(xtrain)\n",
    "    Xpca_train.append(pca[j].transform(xtrain))\n",
    "    Xpca_valid.append(pca[j].transform(xvali))\n",
    "    Xpca_test.append(pca[j].transform(xtest))\n",
    "    bmodel= linear_model.LogisticRegression(C=1, class_weight='balanced',solver=\"lbfgs\",max_iter=8000)\n",
    "    bmodel.fit(Xpca_train[j],ytrain)\n",
    "    pred_.append(bmodel.predict(Xpca_test[j]))\n",
    "    TP_.append(np.logical_and(pred_[j],ytest))\n",
    "    TN_.append(np.logical_and(np.logical_not(pred_[j]),np.logical_not(ytest)))\n",
    "    FP_.append(np.logical_and(pred_[j],np.logical_not(ytest)))\n",
    "    FN_.append(np.logical_and(np.logical_not(pred_[j]),ytest))\n",
    "    TP.append(sum(TP_[j]))\n",
    "    TN.append(sum(TN_[j]))\n",
    "    FN.append(sum(FN_[j]))\n",
    "    FP.append(sum(FP_[j]))\n",
    "    Ber = 1 - 0.5 * (TP[j] / (TP[j] + FN[j]) + TN[j] / (TN[j] + FP[j]))\n",
    "    BER_test.append(Ber)"
   ]
  },
  {
   "cell_type": "code",
   "execution_count": 93,
   "metadata": {},
   "outputs": [
    {
     "data": {
      "text/plain": [
       "[0.41783196907685305,\n",
       " 0.4149613460663939,\n",
       " 0.24027967257844474,\n",
       " 0.22180536607548884,\n",
       " 0.24022282855843557,\n",
       " 0.22379490677580716]"
      ]
     },
     "execution_count": 93,
     "metadata": {},
     "output_type": "execute_result"
    }
   ],
   "source": [
    "BER_test"
   ]
  },
  {
   "cell_type": "markdown",
   "metadata": {},
   "source": [
    "### There are 64 features and we use PCA to find the best number that we compress the features. The result showed that when N=30, that mean we reduce the 64 dimensions to 30 dimensions, validation BER is the minimn."
   ]
  }
 ],
 "metadata": {
  "kernelspec": {
   "display_name": "Python 3",
   "language": "python",
   "name": "python3"
  },
  "language_info": {
   "codemirror_mode": {
    "name": "ipython",
    "version": 3
   },
   "file_extension": ".py",
   "mimetype": "text/x-python",
   "name": "python",
   "nbconvert_exporter": "python",
   "pygments_lexer": "ipython3",
   "version": "3.6.8"
  }
 },
 "nbformat": 4,
 "nbformat_minor": 4
}
